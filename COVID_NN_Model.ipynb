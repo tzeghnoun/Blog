{
 "cells": [
  {
   "cell_type": "markdown",
   "metadata": {},
   "source": [
    "# COVID-19 forecast using a tensorflow: Case of Algeria"
   ]
  },
  {
   "cell_type": "markdown",
   "metadata": {},
   "source": [
    "The objective of this note book is to use a neural network model with tensorflow to predict the number of fatalities as a function of lagged values of the confirmed cases.\n",
    "\n",
    "P.S: This notebook was inspired by a post I read on kaggle but I couldn't find it to put it in the reference. I will be grateful if someone can send me the link to add it. Thanks in advance."
   ]
  },
  {
   "cell_type": "code",
   "execution_count": 1,
   "metadata": {},
   "outputs": [],
   "source": [
    "import numpy as np\n",
    "import pandas as pd\n",
    "import datetime\n",
    "from datetime import date\n",
    "import re\n",
    "import matplotlib.pyplot as plt\n",
    "import seaborn as sns\n",
    "\n",
    "import tensorflow as tf\n",
    "from tensorflow import keras\n",
    "from tensorflow.keras import layers\n",
    "import sys\n",
    "import warnings\n",
    "\n",
    "if not sys.warnoptions:\n",
    "    warnings.simplefilter(\"ignore\")"
   ]
  },
  {
   "cell_type": "markdown",
   "metadata": {},
   "source": [
    "### Reading data"
   ]
  },
  {
   "cell_type": "code",
   "execution_count": 2,
   "metadata": {},
   "outputs": [],
   "source": [
    "# A function to read and clean the dataser\n",
    "def read_csv(url, MIN_CASES = 10, SINCE_CASES_NUM = 10, death=False):\n",
    "    '''\n",
    "    Read csv file from the 2019 Novel Coronavirus COVID-19 (2019-nCoV) Data Repository by Johns Hopkins CSSE on github. \n",
    "    It returns two datasets dff, dff2 and COL_X\n",
    "    '''\n",
    "    # Generate the first df cleaned\n",
    "    df = pd.read_csv(url)\n",
    "    # rename countries\n",
    "    df['Country/Region'] = df['Country/Region'].replace({'Korea, South': 'South Korea'})\n",
    "    # Remove Ships\n",
    "    df = df[~df['Country/Region'].isin(['Cruise Ship'])]\n",
    "        \n",
    "    # Get the value's column\n",
    "    dt_cols = df.columns[~df.columns.isin(['Province/State', 'Country/Region', 'Lat', 'Long'])]\n",
    "    df = df.groupby('Country/Region')[dt_cols].sum()\n",
    "       \n",
    "    # Grouping by country, rename columns & parse dates\n",
    "    dff = (df\n",
    "           .stack().reset_index(name='Confirmed Cases')\n",
    "           .rename(columns={'level_1': 'Date', 'Country/Region': 'Country'}))    \n",
    "    for row in range(len(dff)):\n",
    "        if re.match(r'\\d{1}\\/\\d{1}\\/\\d{4}', str(dff.iloc[row, 1])):\n",
    "            #dff['Date'] = dff['Date'].str[0:7] # first we keep only the '%m/%d/%y' format to avoid errors\n",
    "            dff.iloc[row, 1] = '0' + dff.iloc[row, 1][0:2] + '0' + dff.iloc[row, 1][2:]\n",
    "\n",
    "        elif re.match(r'\\d{1}\\/\\d{2}\\/\\d{4}', str(dff.iloc[row, 1])):\n",
    "            dff.iloc[row, 1] = '0' + dff.iloc[row, 1]\n",
    "\n",
    "        elif re.match(r'\\d{2}\\/\\d{1}\\/\\d{4}', str(dff.iloc[row, 1])):\n",
    "            dff.iloc[row, 1] = dff.iloc[row, 1][0:4] + '0' + dff.iloc[row, 1][4:]\n",
    "        elif re.match(r'\\d+\\/\\d+\\/\\d{2}', str(dff.iloc[row, 1])):\n",
    "            dff.iloc[row, 1] = dff.iloc[row, 1] + '20'\n",
    "            #print(dff.iloc[row, 1])\n",
    "\n",
    "    dff = dff[dff['Date'].str.contains('/20')]\n",
    "    dff['Date'] = pd.to_datetime(dff['Date'], format='%m/%d/%Y')\n",
    "    \n",
    "    # Generate the second df with the minimum case\n",
    "    LAST_DATE = dt_cols[-1]\n",
    "    # sometimes last column may be empty, then go backwards\n",
    "    for c in dt_cols[::-1]:\n",
    "        if not df[c].fillna(0).eq(0).all():\n",
    "            LAST_DATE = c\n",
    "            break\n",
    "    countries = dff[dff['Date'].eq(LAST_DATE) & dff['Confirmed Cases'].ge(MIN_CASES) #& \n",
    "            #dff['Country'].ne('China')\n",
    "           ].sort_values(by='Confirmed Cases', ascending=False)\n",
    "    countries = countries['Country'].values\n",
    "    \n",
    "    SINCE_CASES_NUM = SINCE_CASES_NUM\n",
    "    COL_X = f'Days since {SINCE_CASES_NUM}th death'\n",
    "    dff2 = dff[dff['Country'].isin(countries)].copy()\n",
    "    days_since = (dff2.assign(F=dff2['Confirmed Cases'].ge(SINCE_CASES_NUM))\n",
    "                  .set_index('Date')\n",
    "                  .groupby('Country')['F'].transform('idxmax'))\n",
    "    dff2[COL_X] = (dff2['Date'] - days_since.values).dt.days.values\n",
    "    dff2 = dff2[dff2[COL_X].ge(0)]\n",
    "    return dff, dff2"
   ]
  },
  {
   "cell_type": "code",
   "execution_count": 3,
   "metadata": {},
   "outputs": [],
   "source": [
    "# URLs from the Data Repository by Johns Hopkins CSSE on github\n",
    "# https://raw.githubusercontent.com/CSSEGISandData/COVID-19/master/csse_covid_19_data/csse_covid_19_time_series/\n",
    "\n",
    "# Dataset downloaded on 08-04-2020\n",
    "death_url = 'data/deaths.csv'\n",
    "confirmed_url = 'data/cases.csv'\n",
    "\n",
    "# Getting the datasets\n",
    "death, death_since = read_csv(death_url, death=True)\n",
    "confirmed, confirmed_since = read_csv(confirmed_url)"
   ]
  },
  {
   "cell_type": "code",
   "execution_count": 4,
   "metadata": {},
   "outputs": [
    {
     "data": {
      "text/html": [
       "<div>\n",
       "<style scoped>\n",
       "    .dataframe tbody tr th:only-of-type {\n",
       "        vertical-align: middle;\n",
       "    }\n",
       "\n",
       "    .dataframe tbody tr th {\n",
       "        vertical-align: top;\n",
       "    }\n",
       "\n",
       "    .dataframe thead th {\n",
       "        text-align: right;\n",
       "    }\n",
       "</style>\n",
       "<table border=\"1\" class=\"dataframe\">\n",
       "  <thead>\n",
       "    <tr style=\"text-align: right;\">\n",
       "      <th></th>\n",
       "      <th>Country</th>\n",
       "      <th>Date</th>\n",
       "      <th>Confirmed Cases</th>\n",
       "    </tr>\n",
       "  </thead>\n",
       "  <tbody>\n",
       "    <tr>\n",
       "      <th>156</th>\n",
       "      <td>Algeria</td>\n",
       "      <td>2020-01-22</td>\n",
       "      <td>0</td>\n",
       "    </tr>\n",
       "    <tr>\n",
       "      <th>157</th>\n",
       "      <td>Algeria</td>\n",
       "      <td>2020-01-23</td>\n",
       "      <td>0</td>\n",
       "    </tr>\n",
       "    <tr>\n",
       "      <th>158</th>\n",
       "      <td>Algeria</td>\n",
       "      <td>2020-01-24</td>\n",
       "      <td>0</td>\n",
       "    </tr>\n",
       "    <tr>\n",
       "      <th>159</th>\n",
       "      <td>Algeria</td>\n",
       "      <td>2020-01-25</td>\n",
       "      <td>0</td>\n",
       "    </tr>\n",
       "    <tr>\n",
       "      <th>160</th>\n",
       "      <td>Algeria</td>\n",
       "      <td>2020-01-26</td>\n",
       "      <td>0</td>\n",
       "    </tr>\n",
       "  </tbody>\n",
       "</table>\n",
       "</div>"
      ],
      "text/plain": [
       "     Country       Date  Confirmed Cases\n",
       "156  Algeria 2020-01-22                0\n",
       "157  Algeria 2020-01-23                0\n",
       "158  Algeria 2020-01-24                0\n",
       "159  Algeria 2020-01-25                0\n",
       "160  Algeria 2020-01-26                0"
      ]
     },
     "execution_count": 4,
     "metadata": {},
     "output_type": "execute_result"
    }
   ],
   "source": [
    "confirmed[confirmed['Country'] == 'Algeria'].head()"
   ]
  },
  {
   "cell_type": "markdown",
   "metadata": {},
   "source": [
    "# Visualizing the evolution of the number of confirmed cases & deaths for the selected countries"
   ]
  },
  {
   "cell_type": "code",
   "execution_count": 5,
   "metadata": {},
   "outputs": [
    {
     "ename": "NameError",
     "evalue": "name 'countries' is not defined",
     "output_type": "error",
     "traceback": [
      "\u001b[1;31m---------------------------------------------------------------------------\u001b[0m",
      "\u001b[1;31mNameError\u001b[0m                                 Traceback (most recent call last)",
      "\u001b[1;32m<ipython-input-5-c7186278864c>\u001b[0m in \u001b[0;36m<module>\u001b[1;34m\u001b[0m\n\u001b[1;32m----> 1\u001b[1;33m \u001b[0mconfirmed_since\u001b[0m\u001b[1;33m.\u001b[0m\u001b[0mloc\u001b[0m\u001b[1;33m[\u001b[0m\u001b[0mconfirmed_since\u001b[0m\u001b[1;33m[\u001b[0m\u001b[1;34m'Country'\u001b[0m\u001b[1;33m]\u001b[0m\u001b[1;33m.\u001b[0m\u001b[0misin\u001b[0m\u001b[1;33m(\u001b[0m\u001b[0mcountries\u001b[0m\u001b[1;33m)\u001b[0m\u001b[1;33m,\u001b[0m \u001b[1;33m[\u001b[0m\u001b[1;34m'Confirmed Cases'\u001b[0m\u001b[1;33m,\u001b[0m \u001b[1;34m'Days since 10th death'\u001b[0m\u001b[1;33m]\u001b[0m\u001b[1;33m]\u001b[0m\u001b[1;33m.\u001b[0m\u001b[0mrolling\u001b[0m\u001b[1;33m(\u001b[0m\u001b[1;36m7\u001b[0m\u001b[1;33m)\u001b[0m\u001b[1;33m.\u001b[0m\u001b[0mmean\u001b[0m\u001b[1;33m(\u001b[0m\u001b[1;33m)\u001b[0m\u001b[1;33m.\u001b[0m\u001b[0mdropna\u001b[0m\u001b[1;33m(\u001b[0m\u001b[1;33m)\u001b[0m\u001b[1;33m\u001b[0m\u001b[1;33m\u001b[0m\u001b[0m\n\u001b[0m",
      "\u001b[1;31mNameError\u001b[0m: name 'countries' is not defined"
     ]
    }
   ],
   "source": [
    "confirmed_since.loc[confirmed_since['Country'].isin(countries), ['Confirmed Cases', 'Days since 10th death']].rolling(7).mean().dropna()"
   ]
  },
  {
   "cell_type": "code",
   "execution_count": null,
   "metadata": {},
   "outputs": [],
   "source": [
    "# List of countries to look at & corresponding colors\n",
    "countries = ['Algeria', 'Canada', 'Italy', 'China', 'Spain', 'US', 'France', 'United Kingdom']\n",
    "colors = [[0,0,0], [255/255,165/255, 0], [86/255,180/255,233/255], [250/255,60/255,76/255],\n",
    "          [213/255,94/255,0], [0,114/255,178/255], [0,0,128/255], [128/255,128/255,128/255]]\n",
    "\n",
    "# Plotting\n",
    "plt.style.use('fivethirtyeight')\n",
    "plt.figure(figsize=(16, 7))\n",
    "sns.lineplot(x='Days since 10th death', y='Confirmed Cases', hue='Country', \n",
    "             data=confirmed_since.loc[confirmed_since['Country'].isin(countries)], palette=colors)\n",
    "plt.title('Number of confirmed cases for the selected countries')\n",
    "plt.show() "
   ]
  },
  {
   "cell_type": "code",
   "execution_count": null,
   "metadata": {},
   "outputs": [],
   "source": [
    "# Plotti,g the number of deaths for the selected countries\n",
    "plt.figure(figsize=(16, 7))\n",
    "sns.lineplot(x='Days since 10th death', y='Confirmed Cases', hue='Country', data=death_since[death_since['Country'].isin(countries)], palette=colors)\n",
    "plt.title(\"Number of fatalities for the selelcted countries\")\n",
    "plt.xlabel('Days after 10th deaths officially reported')\n",
    "plt.ylabel('Number of cumulative death')\n",
    "plt.show()"
   ]
  },
  {
   "cell_type": "markdown",
   "metadata": {},
   "source": [
    "# Exlploring the relation between the number of fatalities and the confirmed cases (log values)"
   ]
  },
  {
   "cell_type": "code",
   "execution_count": null,
   "metadata": {},
   "outputs": [],
   "source": [
    "# Generate a dataset of a selected country with Confirmed, deaths cases & there correspondent logp1 values as columns\n",
    "\n",
    "def country_data(country='Algeria'):\n",
    "    '''\n",
    "    Generate a dataset of a selected country with Confirmed, deaths cases & there correspondent logp1 values as columns.\n",
    "    Returns the dataset\n",
    "    '''\n",
    "\n",
    "    df_cases = confirmed.loc[confirmed['Country'] == country, ['Confirmed Cases', 'Date']].reset_index(drop=True).set_index('Date').rename(columns={'Confirmed Cases': 'Confirmed_Cases'})\n",
    "    df_deaths = death.loc[death['Country'] == country, ['Confirmed Cases', 'Date']].reset_index(drop=True).set_index('Date').rename(columns={'Confirmed Cases': 'Confirmed_Cases'})\n",
    "\n",
    "    df = df_cases.join(df_deaths, rsuffix='_deaths').query('Confirmed_Cases>Confirmed_Cases_deaths')\n",
    "    df = df.assign(logp_cases = np.log1p(df.Confirmed_Cases),\n",
    "                   logp_deaths = np.log1p(df.Confirmed_Cases_deaths))\n",
    "    \n",
    "    return df.dropna(axis=0)"
   ]
  },
  {
   "cell_type": "code",
   "execution_count": null,
   "metadata": {},
   "outputs": [],
   "source": [
    "# List of the dataframes of the selected countries\n",
    "dfs = [country_data(country=country) for country in countries]"
   ]
  },
  {
   "cell_type": "code",
   "execution_count": null,
   "metadata": {},
   "outputs": [],
   "source": [
    "def plot_log_CaseDeath(df = dfs[0], country=countries[0], delta=0, cases=2, deaths = 3):\n",
    "    x_1 = np.array(range(df.shape[0]))\n",
    "    if idx == 0:\n",
    "        fig, ax = plt.subplots(1, 1, figsize=(16, 8))\n",
    "    else:\n",
    "        fig, ax = plt.subplots(1, 1, figsize=(12, 5))\n",
    "    ax.plot(df.iloc[:, cases].values)\n",
    "    ax.plot(df.iloc[delta:, deaths].values)\n",
    "    if delta == 0:\n",
    "        plt.title(f'Number of confirmed cases vs. deaths for {country} (log values)')\n",
    "        plt.legend(('log_confirmed_cases', 'log_deaths'))\n",
    "    else:\n",
    "        plt.title(f'Number of confirmed cases vs. deaths for {country}\\n(Ajusted values with a lag of {delta} days)')\n",
    "        plt.legend(('log_confirmed_cases', 'Ajusted_log_deaths'))\n",
    "    plt.xlabel('Days since the 1st reported case')\n",
    "    plt.ylabel('Values (log)')\n",
    "    if idx == 0:\n",
    "        plt.savefig('figs/conf_vs_fatal.png')\n",
    "    plt.show()"
   ]
  },
  {
   "cell_type": "markdown",
   "metadata": {},
   "source": [
    "### Visualizing the evolution of these variables (log values)"
   ]
  },
  {
   "cell_type": "code",
   "execution_count": null,
   "metadata": {},
   "outputs": [],
   "source": [
    "for idx in range(len(dfs)):\n",
    "    plot_log_CaseDeath(df= dfs[idx], country=countries[idx], delta=0)"
   ]
  },
  {
   "cell_type": "markdown",
   "metadata": {},
   "source": [
    "### Calculate the delta of each country"
   ]
  },
  {
   "cell_type": "markdown",
   "metadata": {},
   "source": [
    "Let's create a function to calculate the lag (in days) between the two variables for the given countries."
   ]
  },
  {
   "cell_type": "code",
   "execution_count": null,
   "metadata": {},
   "outputs": [],
   "source": [
    "def get_delta(df=dfs[0], cases=2, deaths = 3):\n",
    "    for num in range(1, 30):\n",
    "        shift = pd.DataFrame(data=df.iloc[:, cases].values - df.iloc[:, deaths].shift(-num).values, columns=['value'])\n",
    "        shift.dropna(axis=0, inplace=True)\n",
    "        if len(shift.query('value > 0')) != len(shift):   # We need to check if all the values of log_deaths are less than log_cases\n",
    "            break\n",
    "        else : \n",
    "            sum_shift = shift.sum() / len(shift)\n",
    "    return num"
   ]
  },
  {
   "cell_type": "code",
   "execution_count": null,
   "metadata": {},
   "outputs": [],
   "source": [
    "dlt = []\n",
    "for df in dfs:\n",
    "    dlt.append(get_delta(df))\n",
    "    \n",
    "for idx in range(len(dfs)):\n",
    "    plot_log_CaseDeath(df= dfs[idx], country=countries[idx], delta=dlt[idx])"
   ]
  },
  {
   "cell_type": "markdown",
   "metadata": {},
   "source": [
    "# Using a Neural Network model to predict the fatalities for Algeria"
   ]
  },
  {
   "cell_type": "code",
   "execution_count": null,
   "metadata": {},
   "outputs": [],
   "source": [
    "# Defining the country and the corresponding delta\n",
    "idx = 0\n",
    "print(dlt[idx])\n",
    "print(countries[idx])\n",
    "dfs[idx].tail()"
   ]
  },
  {
   "cell_type": "markdown",
   "metadata": {},
   "source": [
    "I will use the shifted values of confirmed cases (t - delta) to predict the value of fatalities at the given date (t)"
   ]
  },
  {
   "cell_type": "code",
   "execution_count": null,
   "metadata": {},
   "outputs": [],
   "source": [
    "# I use the absolute values of fatalities and confirmed cases as it gives better results.\n",
    "label =  'Confirmed_Cases_deaths'\n",
    "feature = 'Confirmed_Cases' \n",
    "\n",
    "# Define X and y\n",
    "X = dfs[idx][[feature]].values.reshape(-1, 1)\n",
    "y = dfs[idx][[label]].shift(-dlt[idx]).dropna(axis=0).values.reshape(-1, 1)\n",
    "# The remainig values of cases will serve for to predictions\n",
    "X_valid = X[len(y):]\n",
    "X = X[:len(y)]\n",
    "\n",
    "print(f'X shape : {X.shape}')\n",
    "print(f'X_valid shape : {X_valid.shape}')\n",
    "print(f'y shape : {y.shape}')\n",
    "print(dlt[idx])"
   ]
  },
  {
   "cell_type": "markdown",
   "metadata": {},
   "source": [
    "### Building the model"
   ]
  },
  {
   "cell_type": "code",
   "execution_count": null,
   "metadata": {},
   "outputs": [],
   "source": [
    "# Early stopping callback\n",
    "\n",
    "callbacks = tf.keras.callbacks.EarlyStopping(\n",
    "    monitor='loss', min_delta=0, patience=50, verbose=0, mode='auto',\n",
    "    baseline=None, restore_best_weights=False\n",
    ")\n",
    "\n",
    "# Create the model\n",
    "model = keras.Sequential([\n",
    "    layers.Flatten(),\n",
    "    layers.Dense(64, input_shape=(X.shape[0], ), activation='relu'),\n",
    "    layers.Dense(16, activation='relu'),\n",
    "    layers.Dense(1)\n",
    "  ])\n",
    "\n",
    "# optimizer = tf.keras.optimizers.RMSprop(0.001)\n",
    "optimizer = tf.keras.optimizers.Adam()\n",
    "\n",
    "model.compile(loss='mse',\n",
    "              optimizer=optimizer,\n",
    "              metrics=['mae', 'mse'])"
   ]
  },
  {
   "cell_type": "code",
   "execution_count": null,
   "metadata": {},
   "outputs": [],
   "source": [
    "history = model.fit(X, y, \n",
    "                    epochs=50, verbose=0,\n",
    "                   callbacks=[callbacks])"
   ]
  },
  {
   "cell_type": "code",
   "execution_count": null,
   "metadata": {},
   "outputs": [],
   "source": [
    "# Checking the evolution of the metrics\n",
    "hist = pd.DataFrame(history.history)\n",
    "hist['epoch'] = history.epoch\n",
    "hist.tail()"
   ]
  },
  {
   "cell_type": "code",
   "execution_count": null,
   "metadata": {},
   "outputs": [],
   "source": [
    "# Plotting the train loss\n",
    "plt.figure(figsize=(12, 5))\n",
    "hist.mae.plot()\n",
    "plt.title('Training loss')\n",
    "plt.xlabel('Epochs')\n",
    "plt.ylabel('Mean Absolute Value')\n",
    "plt.show()"
   ]
  },
  {
   "cell_type": "markdown",
   "metadata": {},
   "source": [
    "### Predictions and visualizing the results"
   ]
  },
  {
   "cell_type": "code",
   "execution_count": null,
   "metadata": {},
   "outputs": [],
   "source": [
    "# Defining the indexes\n",
    "x = list(range(len(X)))\n",
    "xx = list(range(len(X), len(X) +len(X_valid)))\n",
    "\n",
    "# Predictions\n",
    "predictions = model.predict(X_valid)\n",
    "predictions = pd.Series(data=predictions.ravel(), index=xx)\n",
    "\n",
    "# Plot\n",
    "colors = [[255/255,165/255, 0], [0,0,128/255]]\n",
    "\n",
    "plt.figure(figsize=(16, 8))\n",
    "plt.plot(x, y, label='Observed', c=colors[1])\n",
    "predictions.plot(label='Predicted', linestyle='dashed', c=colors[0])\n",
    "plt.legend()\n",
    "plt.title('Observed & predicted fatalities for Algeria')\n",
    "plt.xlabel('Days after the first corfirmed case')\n",
    "plt.ylabel('Fatalities')\n",
    "# plt.show()\n",
    "plt.savefig('figs/predictions.png');"
   ]
  },
  {
   "cell_type": "code",
   "execution_count": null,
   "metadata": {},
   "outputs": [],
   "source": [
    "# Predictions values for the upcoming week period \n",
    "start = date.today()\n",
    "end = start + datetime.timedelta(days=10)\n",
    "print(f'The predicted values of fatalities for the period {start} to {end} :')\n",
    "predictions.values.astype(int)"
   ]
  },
  {
   "cell_type": "markdown",
   "metadata": {},
   "source": [
    "I wish the community mitigation strategy adopted by the country/population and the incredible efforts of the medical community will make these figures inaccurate. This hope is is valid for all the countries around the world. Stay safe all."
   ]
  }
 ],
 "metadata": {
  "kernelspec": {
   "display_name": "Python 3",
   "language": "python",
   "name": "python3"
  },
  "language_info": {
   "codemirror_mode": {
    "name": "ipython",
    "version": 3
   },
   "file_extension": ".py",
   "mimetype": "text/x-python",
   "name": "python",
   "nbconvert_exporter": "python",
   "pygments_lexer": "ipython3",
   "version": "3.7.6"
  }
 },
 "nbformat": 4,
 "nbformat_minor": 4
}
